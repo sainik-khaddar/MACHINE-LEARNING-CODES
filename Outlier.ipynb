{
  "nbformat": 4,
  "nbformat_minor": 0,
  "metadata": {
    "colab": {
      "name": "Outlier.ipynb",
      "provenance": [],
      "authorship_tag": "ABX9TyO2AVLUf+0CKtANWoz87Wl9",
      "include_colab_link": true
    },
    "kernelspec": {
      "name": "python3",
      "display_name": "Python 3"
    },
    "language_info": {
      "name": "python"
    }
  },
  "cells": [
    {
      "cell_type": "markdown",
      "metadata": {
        "id": "view-in-github",
        "colab_type": "text"
      },
      "source": [
        "<a href=\"https://colab.research.google.com/github/sainik-khaddar/MACHINE-LEARNING-CODES/blob/main/Outlier.ipynb\" target=\"_parent\"><img src=\"https://colab.research.google.com/assets/colab-badge.svg\" alt=\"Open In Colab\"/></a>"
      ]
    },
    {
      "cell_type": "code",
      "metadata": {
        "id": "Te5En4cuW1CI"
      },
      "source": [
        "import numpy as np\n",
        "import pandas as pd\n",
        "import seaborn as sns"
      ],
      "execution_count": 1,
      "outputs": []
    },
    {
      "cell_type": "code",
      "metadata": {
        "id": "XgQLj-2BXLnd"
      },
      "source": [
        "df=pd.read_csv('House_Price.csv')"
      ],
      "execution_count": 3,
      "outputs": []
    },
    {
      "cell_type": "code",
      "metadata": {
        "colab": {
          "base_uri": "https://localhost:8080/",
          "height": 203
        },
        "id": "gAf6d6heXStc",
        "outputId": "2f36aa44-b505-4cc2-f43d-5c208919a2b7"
      },
      "source": [
        "df.head()"
      ],
      "execution_count": 4,
      "outputs": [
        {
          "output_type": "execute_result",
          "data": {
            "text/html": [
              "<div>\n",
              "<style scoped>\n",
              "    .dataframe tbody tr th:only-of-type {\n",
              "        vertical-align: middle;\n",
              "    }\n",
              "\n",
              "    .dataframe tbody tr th {\n",
              "        vertical-align: top;\n",
              "    }\n",
              "\n",
              "    .dataframe thead th {\n",
              "        text-align: right;\n",
              "    }\n",
              "</style>\n",
              "<table border=\"1\" class=\"dataframe\">\n",
              "  <thead>\n",
              "    <tr style=\"text-align: right;\">\n",
              "      <th></th>\n",
              "      <th>price</th>\n",
              "      <th>crime_rate</th>\n",
              "      <th>resid_area</th>\n",
              "      <th>air_qual</th>\n",
              "      <th>room_num</th>\n",
              "      <th>age</th>\n",
              "      <th>dist1</th>\n",
              "      <th>dist2</th>\n",
              "      <th>dist3</th>\n",
              "      <th>dist4</th>\n",
              "      <th>teachers</th>\n",
              "      <th>poor_prop</th>\n",
              "      <th>airport</th>\n",
              "      <th>n_hos_beds</th>\n",
              "      <th>n_hot_rooms</th>\n",
              "      <th>waterbody</th>\n",
              "      <th>rainfall</th>\n",
              "      <th>bus_ter</th>\n",
              "      <th>parks</th>\n",
              "    </tr>\n",
              "  </thead>\n",
              "  <tbody>\n",
              "    <tr>\n",
              "      <th>0</th>\n",
              "      <td>24.0</td>\n",
              "      <td>0.00632</td>\n",
              "      <td>32.31</td>\n",
              "      <td>0.538</td>\n",
              "      <td>6.575</td>\n",
              "      <td>65.2</td>\n",
              "      <td>4.35</td>\n",
              "      <td>3.81</td>\n",
              "      <td>4.18</td>\n",
              "      <td>4.01</td>\n",
              "      <td>24.7</td>\n",
              "      <td>4.98</td>\n",
              "      <td>YES</td>\n",
              "      <td>5.480</td>\n",
              "      <td>11.1920</td>\n",
              "      <td>River</td>\n",
              "      <td>23</td>\n",
              "      <td>YES</td>\n",
              "      <td>0.049347</td>\n",
              "    </tr>\n",
              "    <tr>\n",
              "      <th>1</th>\n",
              "      <td>21.6</td>\n",
              "      <td>0.02731</td>\n",
              "      <td>37.07</td>\n",
              "      <td>0.469</td>\n",
              "      <td>6.421</td>\n",
              "      <td>78.9</td>\n",
              "      <td>4.99</td>\n",
              "      <td>4.70</td>\n",
              "      <td>5.12</td>\n",
              "      <td>5.06</td>\n",
              "      <td>22.2</td>\n",
              "      <td>9.14</td>\n",
              "      <td>NO</td>\n",
              "      <td>7.332</td>\n",
              "      <td>12.1728</td>\n",
              "      <td>Lake</td>\n",
              "      <td>42</td>\n",
              "      <td>YES</td>\n",
              "      <td>0.046146</td>\n",
              "    </tr>\n",
              "    <tr>\n",
              "      <th>2</th>\n",
              "      <td>34.7</td>\n",
              "      <td>0.02729</td>\n",
              "      <td>37.07</td>\n",
              "      <td>0.469</td>\n",
              "      <td>7.185</td>\n",
              "      <td>61.1</td>\n",
              "      <td>5.03</td>\n",
              "      <td>4.86</td>\n",
              "      <td>5.01</td>\n",
              "      <td>4.97</td>\n",
              "      <td>22.2</td>\n",
              "      <td>4.03</td>\n",
              "      <td>NO</td>\n",
              "      <td>7.394</td>\n",
              "      <td>101.1200</td>\n",
              "      <td>None</td>\n",
              "      <td>38</td>\n",
              "      <td>YES</td>\n",
              "      <td>0.045764</td>\n",
              "    </tr>\n",
              "    <tr>\n",
              "      <th>3</th>\n",
              "      <td>33.4</td>\n",
              "      <td>0.03237</td>\n",
              "      <td>32.18</td>\n",
              "      <td>0.458</td>\n",
              "      <td>6.998</td>\n",
              "      <td>45.8</td>\n",
              "      <td>6.21</td>\n",
              "      <td>5.93</td>\n",
              "      <td>6.16</td>\n",
              "      <td>5.96</td>\n",
              "      <td>21.3</td>\n",
              "      <td>2.94</td>\n",
              "      <td>YES</td>\n",
              "      <td>9.268</td>\n",
              "      <td>11.2672</td>\n",
              "      <td>Lake</td>\n",
              "      <td>45</td>\n",
              "      <td>YES</td>\n",
              "      <td>0.047151</td>\n",
              "    </tr>\n",
              "    <tr>\n",
              "      <th>4</th>\n",
              "      <td>36.2</td>\n",
              "      <td>0.06905</td>\n",
              "      <td>32.18</td>\n",
              "      <td>0.458</td>\n",
              "      <td>7.147</td>\n",
              "      <td>54.2</td>\n",
              "      <td>6.16</td>\n",
              "      <td>5.86</td>\n",
              "      <td>6.37</td>\n",
              "      <td>5.86</td>\n",
              "      <td>21.3</td>\n",
              "      <td>5.33</td>\n",
              "      <td>NO</td>\n",
              "      <td>8.824</td>\n",
              "      <td>11.2896</td>\n",
              "      <td>Lake</td>\n",
              "      <td>55</td>\n",
              "      <td>YES</td>\n",
              "      <td>0.039474</td>\n",
              "    </tr>\n",
              "  </tbody>\n",
              "</table>\n",
              "</div>"
            ],
            "text/plain": [
              "   price  crime_rate  resid_area  ...  rainfall  bus_ter     parks\n",
              "0   24.0     0.00632       32.31  ...        23      YES  0.049347\n",
              "1   21.6     0.02731       37.07  ...        42      YES  0.046146\n",
              "2   34.7     0.02729       37.07  ...        38      YES  0.045764\n",
              "3   33.4     0.03237       32.18  ...        45      YES  0.047151\n",
              "4   36.2     0.06905       32.18  ...        55      YES  0.039474\n",
              "\n",
              "[5 rows x 19 columns]"
            ]
          },
          "metadata": {},
          "execution_count": 4
        }
      ]
    },
    {
      "cell_type": "code",
      "metadata": {
        "colab": {
          "base_uri": "https://localhost:8080/"
        },
        "id": "mEC9GJVwXZ1t",
        "outputId": "794e681b-2835-4c90-8387-04dabf7f0dde"
      },
      "source": [
        "df.info()"
      ],
      "execution_count": 6,
      "outputs": [
        {
          "output_type": "stream",
          "name": "stdout",
          "text": [
            "<class 'pandas.core.frame.DataFrame'>\n",
            "RangeIndex: 506 entries, 0 to 505\n",
            "Data columns (total 19 columns):\n",
            " #   Column       Non-Null Count  Dtype  \n",
            "---  ------       --------------  -----  \n",
            " 0   price        506 non-null    float64\n",
            " 1   crime_rate   506 non-null    float64\n",
            " 2   resid_area   506 non-null    float64\n",
            " 3   air_qual     506 non-null    float64\n",
            " 4   room_num     506 non-null    float64\n",
            " 5   age          506 non-null    float64\n",
            " 6   dist1        506 non-null    float64\n",
            " 7   dist2        506 non-null    float64\n",
            " 8   dist3        506 non-null    float64\n",
            " 9   dist4        506 non-null    float64\n",
            " 10  teachers     506 non-null    float64\n",
            " 11  poor_prop    506 non-null    float64\n",
            " 12  airport      506 non-null    object \n",
            " 13  n_hos_beds   498 non-null    float64\n",
            " 14  n_hot_rooms  506 non-null    float64\n",
            " 15  waterbody    506 non-null    object \n",
            " 16  rainfall     506 non-null    int64  \n",
            " 17  bus_ter      506 non-null    object \n",
            " 18  parks        506 non-null    float64\n",
            "dtypes: float64(15), int64(1), object(3)\n",
            "memory usage: 75.2+ KB\n"
          ]
        }
      ]
    },
    {
      "cell_type": "code",
      "metadata": {
        "colab": {
          "base_uri": "https://localhost:8080/"
        },
        "id": "kviUv8bJXq2h",
        "outputId": "7ab0568d-9025-499f-d58f-afa5dfc6b7c2"
      },
      "source": [
        "np.percentile(df.n_hot_rooms,[99])"
      ],
      "execution_count": 8,
      "outputs": [
        {
          "output_type": "execute_result",
          "data": {
            "text/plain": [
              "array([15.39952])"
            ]
          },
          "metadata": {},
          "execution_count": 8
        }
      ]
    },
    {
      "cell_type": "code",
      "metadata": {
        "id": "lSV5w6DMsfzN"
      },
      "source": [
        "uv=np.percentile(df.n_hot_rooms,[99])[0]"
      ],
      "execution_count": 10,
      "outputs": []
    },
    {
      "cell_type": "code",
      "metadata": {
        "colab": {
          "base_uri": "https://localhost:8080/",
          "height": 234
        },
        "id": "-B8NGjGUs-Vj",
        "outputId": "20d4a726-622e-485f-a57f-03697445eff2"
      },
      "source": [
        "df[(df.n_hot_rooms>uv)]"
      ],
      "execution_count": 13,
      "outputs": [
        {
          "output_type": "execute_result",
          "data": {
            "text/html": [
              "<div>\n",
              "<style scoped>\n",
              "    .dataframe tbody tr th:only-of-type {\n",
              "        vertical-align: middle;\n",
              "    }\n",
              "\n",
              "    .dataframe tbody tr th {\n",
              "        vertical-align: top;\n",
              "    }\n",
              "\n",
              "    .dataframe thead th {\n",
              "        text-align: right;\n",
              "    }\n",
              "</style>\n",
              "<table border=\"1\" class=\"dataframe\">\n",
              "  <thead>\n",
              "    <tr style=\"text-align: right;\">\n",
              "      <th></th>\n",
              "      <th>price</th>\n",
              "      <th>crime_rate</th>\n",
              "      <th>resid_area</th>\n",
              "      <th>air_qual</th>\n",
              "      <th>room_num</th>\n",
              "      <th>age</th>\n",
              "      <th>dist1</th>\n",
              "      <th>dist2</th>\n",
              "      <th>dist3</th>\n",
              "      <th>dist4</th>\n",
              "      <th>teachers</th>\n",
              "      <th>poor_prop</th>\n",
              "      <th>airport</th>\n",
              "      <th>n_hos_beds</th>\n",
              "      <th>n_hot_rooms</th>\n",
              "      <th>waterbody</th>\n",
              "      <th>rainfall</th>\n",
              "      <th>bus_ter</th>\n",
              "      <th>parks</th>\n",
              "    </tr>\n",
              "  </thead>\n",
              "  <tbody>\n",
              "    <tr>\n",
              "      <th>2</th>\n",
              "      <td>34.7</td>\n",
              "      <td>0.02729</td>\n",
              "      <td>37.07</td>\n",
              "      <td>0.4690</td>\n",
              "      <td>7.185</td>\n",
              "      <td>61.1</td>\n",
              "      <td>5.03</td>\n",
              "      <td>4.86</td>\n",
              "      <td>5.01</td>\n",
              "      <td>4.97</td>\n",
              "      <td>22.2</td>\n",
              "      <td>4.03</td>\n",
              "      <td>NO</td>\n",
              "      <td>7.394</td>\n",
              "      <td>101.12</td>\n",
              "      <td>None</td>\n",
              "      <td>38</td>\n",
              "      <td>YES</td>\n",
              "      <td>0.045764</td>\n",
              "    </tr>\n",
              "    <tr>\n",
              "      <th>166</th>\n",
              "      <td>50.0</td>\n",
              "      <td>2.01019</td>\n",
              "      <td>49.58</td>\n",
              "      <td>0.6050</td>\n",
              "      <td>7.929</td>\n",
              "      <td>96.2</td>\n",
              "      <td>2.11</td>\n",
              "      <td>1.91</td>\n",
              "      <td>2.31</td>\n",
              "      <td>1.86</td>\n",
              "      <td>25.3</td>\n",
              "      <td>3.70</td>\n",
              "      <td>YES</td>\n",
              "      <td>8.300</td>\n",
              "      <td>15.40</td>\n",
              "      <td>River</td>\n",
              "      <td>37</td>\n",
              "      <td>YES</td>\n",
              "      <td>0.052105</td>\n",
              "    </tr>\n",
              "    <tr>\n",
              "      <th>204</th>\n",
              "      <td>50.0</td>\n",
              "      <td>0.02009</td>\n",
              "      <td>32.68</td>\n",
              "      <td>0.4161</td>\n",
              "      <td>8.034</td>\n",
              "      <td>31.9</td>\n",
              "      <td>5.41</td>\n",
              "      <td>4.80</td>\n",
              "      <td>5.28</td>\n",
              "      <td>4.99</td>\n",
              "      <td>25.3</td>\n",
              "      <td>2.88</td>\n",
              "      <td>YES</td>\n",
              "      <td>8.900</td>\n",
              "      <td>15.40</td>\n",
              "      <td>River</td>\n",
              "      <td>51</td>\n",
              "      <td>YES</td>\n",
              "      <td>0.044178</td>\n",
              "    </tr>\n",
              "    <tr>\n",
              "      <th>267</th>\n",
              "      <td>50.0</td>\n",
              "      <td>0.57834</td>\n",
              "      <td>33.97</td>\n",
              "      <td>0.5750</td>\n",
              "      <td>8.297</td>\n",
              "      <td>67.0</td>\n",
              "      <td>2.60</td>\n",
              "      <td>2.13</td>\n",
              "      <td>2.43</td>\n",
              "      <td>2.52</td>\n",
              "      <td>27.0</td>\n",
              "      <td>7.44</td>\n",
              "      <td>YES</td>\n",
              "      <td>8.000</td>\n",
              "      <td>15.40</td>\n",
              "      <td>None</td>\n",
              "      <td>42</td>\n",
              "      <td>YES</td>\n",
              "      <td>0.063235</td>\n",
              "    </tr>\n",
              "    <tr>\n",
              "      <th>369</th>\n",
              "      <td>50.0</td>\n",
              "      <td>5.66998</td>\n",
              "      <td>48.10</td>\n",
              "      <td>0.6310</td>\n",
              "      <td>6.683</td>\n",
              "      <td>96.8</td>\n",
              "      <td>1.55</td>\n",
              "      <td>1.28</td>\n",
              "      <td>1.65</td>\n",
              "      <td>0.94</td>\n",
              "      <td>19.8</td>\n",
              "      <td>3.73</td>\n",
              "      <td>YES</td>\n",
              "      <td>6.700</td>\n",
              "      <td>15.40</td>\n",
              "      <td>River</td>\n",
              "      <td>58</td>\n",
              "      <td>YES</td>\n",
              "      <td>0.067477</td>\n",
              "    </tr>\n",
              "    <tr>\n",
              "      <th>423</th>\n",
              "      <td>13.4</td>\n",
              "      <td>7.05042</td>\n",
              "      <td>48.10</td>\n",
              "      <td>0.6140</td>\n",
              "      <td>6.103</td>\n",
              "      <td>85.1</td>\n",
              "      <td>2.08</td>\n",
              "      <td>1.80</td>\n",
              "      <td>2.34</td>\n",
              "      <td>1.87</td>\n",
              "      <td>19.8</td>\n",
              "      <td>23.29</td>\n",
              "      <td>NO</td>\n",
              "      <td>8.268</td>\n",
              "      <td>81.12</td>\n",
              "      <td>Lake</td>\n",
              "      <td>29</td>\n",
              "      <td>YES</td>\n",
              "      <td>0.063344</td>\n",
              "    </tr>\n",
              "  </tbody>\n",
              "</table>\n",
              "</div>"
            ],
            "text/plain": [
              "     price  crime_rate  resid_area  ...  rainfall  bus_ter     parks\n",
              "2     34.7     0.02729       37.07  ...        38      YES  0.045764\n",
              "166   50.0     2.01019       49.58  ...        37      YES  0.052105\n",
              "204   50.0     0.02009       32.68  ...        51      YES  0.044178\n",
              "267   50.0     0.57834       33.97  ...        42      YES  0.063235\n",
              "369   50.0     5.66998       48.10  ...        58      YES  0.067477\n",
              "423   13.4     7.05042       48.10  ...        29      YES  0.063344\n",
              "\n",
              "[6 rows x 19 columns]"
            ]
          },
          "metadata": {},
          "execution_count": 13
        }
      ]
    },
    {
      "cell_type": "code",
      "metadata": {
        "colab": {
          "base_uri": "https://localhost:8080/"
        },
        "id": "brBEmCDJtVhE",
        "outputId": "f2f6686b-768c-437e-aaae-04bb63e895d4"
      },
      "source": [
        "df.n_hot_rooms[(df.n_hot_rooms>3*uv)]=3*uv"
      ],
      "execution_count": 14,
      "outputs": [
        {
          "output_type": "stream",
          "name": "stderr",
          "text": [
            "/usr/local/lib/python3.7/dist-packages/ipykernel_launcher.py:1: SettingWithCopyWarning: \n",
            "A value is trying to be set on a copy of a slice from a DataFrame\n",
            "\n",
            "See the caveats in the documentation: https://pandas.pydata.org/pandas-docs/stable/user_guide/indexing.html#returning-a-view-versus-a-copy\n",
            "  \"\"\"Entry point for launching an IPython kernel.\n"
          ]
        }
      ]
    },
    {
      "cell_type": "code",
      "metadata": {
        "colab": {
          "base_uri": "https://localhost:8080/"
        },
        "id": "q_q8EzY2tyWh",
        "outputId": "65fe5e26-f7f8-4041-e899-6079d2a6169f"
      },
      "source": [
        "np.percentile(df.rainfall,[0])"
      ],
      "execution_count": 15,
      "outputs": [
        {
          "output_type": "execute_result",
          "data": {
            "text/plain": [
              "array([3.])"
            ]
          },
          "metadata": {},
          "execution_count": 15
        }
      ]
    },
    {
      "cell_type": "code",
      "metadata": {
        "id": "rJvQlmMNu3Q1"
      },
      "source": [
        ""
      ],
      "execution_count": null,
      "outputs": []
    },
    {
      "cell_type": "code",
      "metadata": {
        "id": "2CGFjQfFtPz1"
      },
      "source": [
        ""
      ],
      "execution_count": null,
      "outputs": []
    },
    {
      "cell_type": "code",
      "metadata": {
        "id": "Ko2EpakUtJIX"
      },
      "source": [
        ""
      ],
      "execution_count": null,
      "outputs": []
    },
    {
      "cell_type": "code",
      "metadata": {
        "id": "ASLlxewLstXO"
      },
      "source": [
        ""
      ],
      "execution_count": null,
      "outputs": []
    },
    {
      "cell_type": "code",
      "metadata": {
        "id": "7mhpEKsZsavl"
      },
      "source": [
        ""
      ],
      "execution_count": null,
      "outputs": []
    },
    {
      "cell_type": "code",
      "metadata": {
        "id": "AhifipmAsGX7"
      },
      "source": [
        ""
      ],
      "execution_count": null,
      "outputs": []
    },
    {
      "cell_type": "code",
      "metadata": {
        "id": "97V-Ws4PXnMn"
      },
      "source": [
        ""
      ],
      "execution_count": null,
      "outputs": []
    }
  ]
}